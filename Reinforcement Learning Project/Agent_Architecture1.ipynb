{
 "cells": [
  {
   "cell_type": "markdown",
   "metadata": {
    "id": "JSv6D93NucEN"
   },
   "source": [
    "### Cab-Driver Agent"
   ]
  },
  {
   "cell_type": "code",
   "execution_count": 1,
   "metadata": {
    "id": "ITyq7JrIucEP"
   },
   "outputs": [],
   "source": [
    "# Importing libraries\n",
    "import numpy as np\n",
    "import random\n",
    "import math\n",
    "from collections import deque\n",
    "import collections\n",
    "import pickle\n",
    "\n",
    "# for building DQN model\n",
    "from keras import layers\n",
    "from keras import Sequential\n",
    "from keras.layers import Dense, Activation, Flatten\n",
    "from keras.optimizers import Adam\n",
    "\n",
    "# for plotting graphs\n",
    "import matplotlib.pyplot as plt\n",
    "\n",
    "# Import the environment\n",
    "from Env import CabDriver\n",
    "\n",
    "# to track progress of the learning\n",
    "from tqdm import trange\n",
    "\n",
    "import time\n",
    "import os\n",
    "import sys"
   ]
  },
  {
   "cell_type": "code",
   "execution_count": 2,
   "metadata": {
    "id": "W15LsdXEucEV"
   },
   "outputs": [],
   "source": [
    "random.seed(17)\n",
    "np.random.seed(17)"
   ]
  },
  {
   "cell_type": "markdown",
   "metadata": {
    "id": "P-keqs2iucEb"
   },
   "source": [
    "#### Defining Time Matrix"
   ]
  },
  {
   "cell_type": "code",
   "execution_count": 3,
   "metadata": {
    "id": "gN_xQc4lucEc"
   },
   "outputs": [],
   "source": [
    "# Loading the time matrix provided\n",
    "Time_matrix = np.load(\"TM.npy\")"
   ]
  },
  {
   "cell_type": "markdown",
   "metadata": {
    "id": "IPePYglzucEi"
   },
   "source": [
    "#### Tracking the state-action pairs for checking convergence\n"
   ]
  },
  {
   "cell_type": "code",
   "execution_count": 4,
   "metadata": {
    "id": "9HoWcdEIucEi"
   },
   "outputs": [],
   "source": [
    "def encode_track_state(state):\n",
    "    return ('-'.join(str(e) for e in state))"
   ]
  },
  {
   "cell_type": "code",
   "execution_count": 5,
   "metadata": {
    "id": "jphacTIaucEn"
   },
   "outputs": [],
   "source": [
    "def encode_track_action(action):\n",
    "    return ('-'.join(str(e) for e in action))"
   ]
  },
  {
   "cell_type": "code",
   "execution_count": 6,
   "metadata": {
    "id": "XTO6YTCHucEr"
   },
   "outputs": [],
   "source": [
    "# Tracking q-values for all possible moves for state (4-4-2)\n",
    "def initialise_tracking_states(episodes): \n",
    "    sample_q_values = [('4-4-2', f\"{p}-{q}\") for p in range(6) for q in range(6) if ((p>0 and q>0 and p!=q) or (p==0 and q==0))]  \n",
    "\n",
    "    for q_value in sample_q_values:\n",
    "        state = q_value[0]\n",
    "        action = q_value[1]\n",
    "        States_track[state][action] = []"
   ]
  },
  {
   "cell_type": "code",
   "execution_count": 7,
   "metadata": {
    "id": "cQyeN39aucEw"
   },
   "outputs": [],
   "source": [
    "def save_tracking_states(curr_state, curr_action, curr_q_value):\n",
    "    for state in States_track.keys():\n",
    "        if state == curr_state:\n",
    "            for action in States_track[state].keys():\n",
    "                if action == curr_action:\n",
    "                    States_track[state][action].append(curr_q_value)\n",
    "      "
   ]
  },
  {
   "cell_type": "code",
   "execution_count": 8,
   "metadata": {
    "id": "4lu_8skUucE2"
   },
   "outputs": [],
   "source": [
    "#Defining a function to save the Q-dictionary as a pickle file\n",
    "def save_obj(obj, name ):\n",
    "    with open(name + '.pkl', 'wb') as f:\n",
    "        pickle.dump(obj, f, pickle.HIGHEST_PROTOCOL)"
   ]
  },
  {
   "cell_type": "markdown",
   "metadata": {
    "id": "ekpoT_uqucE6"
   },
   "source": [
    "### Agent Class\n",
    "\n",
    "If you are using this framework, you need to fill the following to complete the following code block:\n",
    "1. State and Action Size\n",
    "2. Hyperparameters\n",
    "3. Create a neural-network model in function 'build_model()'\n",
    "4. Define epsilon-greedy strategy in function 'get_action()'\n",
    "5. Complete the function 'append_sample()'. This function appends the recent experience tuple <state, action, reward, new-state> to the memory\n",
    "6. Complete the 'train_model()' function with following logic:\n",
    "   - If the memory size is greater than mini-batch size, you randomly sample experiences from memory as per the mini-batch size and do the following:\n",
    "      - Initialise your input and output batch for training the model\n",
    "      - Calculate the target Q value for each sample: reward + gamma*max(Q(s'a,))\n",
    "      - Get Q(s', a) values from the last trained model\n",
    "      - Update the input batch as your encoded state and output batch as your Q-values\n",
    "      - Then fit your DQN model using the updated input and output batch."
   ]
  },
  {
   "cell_type": "code",
   "execution_count": 9,
   "metadata": {
    "id": "O-01cEXKucE7"
   },
   "outputs": [],
   "source": [
    "class DQNAgent:\n",
    "    def __init__(self, state_size, action_size):\n",
    "        # Define size of state and action\n",
    "        self.state_size = state_size\n",
    "        self.action_size = action_size\n",
    "\n",
    "        # Write here: Specify you hyper parameters for the DQN\n",
    "        self.discount_factor = 0.99\n",
    "        self.learning_rate = 0.001 \n",
    "        self.epsilon_max = 1.0\n",
    "        self.epsilon_decay = -0.00005\n",
    "        self.epsilon_min = 0.0001\n",
    "        \n",
    "        self.batch_size = 64        \n",
    "        # create replay memory using deque\n",
    "        self.memory = deque(maxlen=2000)\n",
    "\n",
    "        # create main model and target model\n",
    "        self.model = self.build_model()\n",
    "        self.target_model = self.build_model()\n",
    "\n",
    "    # approximate Q function using Neural Network\n",
    "    def build_model(self):\n",
    "        model = Sequential()\n",
    "        # Write your code here: Add layers to your neural nets  \n",
    "        \n",
    "         \n",
    "        # input layer - input dimension would be state size\n",
    "        model.add(Dense(32, input_dim=self.state_size, activation='relu', kernel_initializer='he_uniform'))\n",
    "        \n",
    "        # layer - 2\n",
    "        model.add(Dense(32, activation='relu', kernel_initializer='he_uniform'))\n",
    "        \n",
    "        # layer - 3\n",
    "        model.add(Dense(32, activation='relu', kernel_initializer='he_uniform'))\n",
    "\n",
    "        # the output layer: output size is total number of possible actions     \n",
    "        model.add(Dense(self.action_size, activation='relu', kernel_initializer='he_uniform'))\n",
    "        \n",
    "        model.compile(loss='mse',optimizer=Adam(lr=self.learning_rate))\n",
    "        # model.summary\n",
    "\n",
    "        return model\n",
    "\n",
    "\n",
    "    def update_target_model(self):\n",
    "        # update the target Q-value network to current Q-value network after training for a episode. \n",
    "        # this means that weights an biases of target Q-value network will become same as current Q-value network.\n",
    "        self.target_model.set_weights(self.model.get_weights())\n",
    "\n",
    "    def get_action(self, state, possible_actions):\n",
    "        # Write your code here:\n",
    "        # get action from model using epsilon-greedy policy\n",
    "        # Decay in ε after we generate each sample from the environment   \n",
    "\n",
    "        if np.random.rand() <= self.epsilon_max:\n",
    "            # exploration\n",
    "            return random.choice(possible_actions)\n",
    "        else:\n",
    "            # exploitation\n",
    "            q_values = self.model.predict(state)\n",
    "            \n",
    "            possible_action_q_values = list(q_values[0][index] for index in possible_actions)\n",
    "            max_q_value = np.max(possible_action_q_values)\n",
    "            choice = np.where(q_values[0] == max_q_value)\n",
    "            return choice[0][0]\n",
    "        \n",
    "\n",
    "\n",
    "    def append_sample(self, state, action, reward, next_state, terminal):\n",
    "        # Write your code here:\n",
    "        # save sample <s,a,r,s'> to the replay memory\n",
    "        self.memory.append((state, action, reward, next_state, terminal))\n",
    "    \n",
    "    \n",
    "    \n",
    "    # pick samples randomly from replay memory (with batch_size) and train the network\n",
    "    def train_model(self):\n",
    "        \n",
    "        if len(self.memory) > self.batch_size:\n",
    "            # Sample batch from the memory\n",
    "            mini_batch = random.sample(self.memory, self.batch_size)\n",
    "            update_output = np.zeros((self.batch_size, self.state_size)) # write here\n",
    "            update_input = np.zeros((self.batch_size, self.state_size)) # write here\n",
    "            \n",
    "            actions, rewards, terminal_states = [], [], []\n",
    "            \n",
    "            for i in range(self.batch_size):\n",
    "                state, action, reward, next_state, done = mini_batch[i]\n",
    "                \n",
    "                \n",
    "                # Write your code from here\n",
    "\n",
    "                update_input[i] = state\n",
    "                actions.append(action)\n",
    "                rewards.append(reward)\n",
    "                terminal_states.append(done)\n",
    "                update_output[i] = next_state\n",
    "\n",
    "            # 1. Predict the target from earlier model\n",
    "            target = self.model.predict(update_input)\n",
    "            \n",
    "            # 2. Get the target for the Q-network\n",
    "            target_qval = self.target_model.predict(update_output)  \n",
    "            \n",
    "            \n",
    "            #3. Update your 'update_output' and 'update_input' batch\n",
    "            for i in range(self.batch_size):\n",
    "                if terminal_states[i]:\n",
    "                    target[i][actions[i]] = rewards[i]\n",
    "                else: # non-terminal state\n",
    "                    target[i][actions[i]] = rewards[i] + self.discount_factor * np.max(target_qval[i])\n",
    "\n",
    "            # 4. Fit your model and track the loss values\n",
    "            # used 20 epoch to train the model\n",
    "            self.model.fit(update_input, target, batch_size=self.batch_size, epochs=20, verbose=0)\n",
    "        \n",
    "\n",
    "\n",
    "    def save(self, name):\n",
    "        self.model.save(name)\n",
    "      \n",
    "    def get_model_weights(self):\n",
    "        return self.model.get_weights()"
   ]
  },
  {
   "cell_type": "code",
   "execution_count": 10,
   "metadata": {
    "id": "ZcxbGoEAucFA"
   },
   "outputs": [],
   "source": [
    "Episodes = 4000"
   ]
  },
  {
   "cell_type": "markdown",
   "metadata": {
    "id": "dakb5etXucFE"
   },
   "source": [
    "### DQN block"
   ]
  },
  {
   "cell_type": "code",
   "execution_count": 11,
   "metadata": {
    "id": "0MuptijUucFF"
   },
   "outputs": [],
   "source": [
    "env = CabDriver()\n",
    "\n",
    "scores = []\n",
    "state = env.state_init\n",
    "state_encoded = env.state_encod_arch1(state)\n",
    "state_size = len(state_encoded)\n",
    "action_size = len(env.action_space)\n",
    "agent = DQNAgent(state_size, action_size)\n",
    "States_track = collections.defaultdict(dict)\n",
    "initialise_tracking_states(Episodes)"
   ]
  },
  {
   "cell_type": "code",
   "execution_count": null,
   "metadata": {
    "id": "VYuowIQ_vC9A"
   },
   "outputs": [],
   "source": []
  },
  {
   "cell_type": "code",
   "execution_count": 12,
   "metadata": {
    "colab": {
     "base_uri": "https://localhost:8080/"
    },
    "id": "nTXCVIlAucFK",
    "outputId": "a3ba43eb-dd71-47da-cb5a-85abd9bacc69",
    "scrolled": true
   },
   "outputs": [
    {
     "name": "stderr",
     "output_type": "stream",
     "text": [
      "Score : 1582.0, Rides : 107, ε : 0.00010000000000000003, memory : 2000: 100%|██████████| 4000/4000 [4:58:08<00:00,  4.47s/it]  \n"
     ]
    }
   ],
   "source": [
    "value = \"Score : {0}, Rides : {1}, ε : {2}, memory : {3}\".format(0, 0, agent.epsilon_max, len(agent.memory))\n",
    "\n",
    "t_range = trange(Episodes, desc=value, leave=True)\n",
    "\n",
    "for episode in t_range:\n",
    "\n",
    "    # Write code here\n",
    "    # Call the environment\n",
    "    # Call all the initialised variables of the environment\n",
    "    terminal_state = False\n",
    "    score = 0\n",
    "    reward = 0\n",
    "    total_days = 1\n",
    "    previous_day = 0\n",
    "    current_day = 0\n",
    "\n",
    "    #Call the DQN agent\n",
    "    action_space, state_space, state = env.reset()\n",
    "    track_state = state\n",
    "    \n",
    "    rides = 0\n",
    "    while not terminal_state:\n",
    "        \n",
    "        # Write your code here\n",
    "\n",
    "        state_encoded = env.state_encod_arch1(state)\n",
    "        state_encoded = np.reshape(state_encoded, [1, state_size])\n",
    "\n",
    "        # 1. Pick epsilon-greedy action from possible actions for the current state\n",
    "        possible_actions, action_list = env.requests(state)\n",
    "        action = agent.get_action(state_encoded, possible_actions)\n",
    "        \n",
    "        \n",
    "\n",
    "        # 2. Evaluate your reward and next state\n",
    "        reward = env.reward_func(state, env.action_space[action], Time_matrix)\n",
    "        next_state = env.next_state_func(state, env.action_space[action], Time_matrix)\n",
    "        next_state_encoded = env.state_encod_arch1(next_state)\n",
    "        next_state_encoded = np.reshape(next_state_encoded, [1, state_size])\n",
    "        \n",
    "\n",
    "        # 3. Append the experience to the memory\n",
    "        agent.append_sample(state_encoded, action, reward, next_state_encoded, terminal_state)\n",
    "        \n",
    "     \n",
    "        score += reward\n",
    "        previous_day = state[2]\n",
    "        current_day = next_state[2]\n",
    "        state = next_state\n",
    "\n",
    "        rides += 1\n",
    "        \n",
    "        if previous_day != current_day:\n",
    "            total_days = total_days + 1\n",
    "            \n",
    "        if total_days > 30:\n",
    "            terminal_state = True\n",
    "            scores.append(score)\n",
    "            agent.update_target_model()\n",
    "\n",
    "        # 4. Train the model by calling function agent.train_model\n",
    "        # Train the model every 50 trips\n",
    "        if rides%50 == 0:\n",
    "            agent.train_model()\n",
    "\n",
    "    # 5. Keep a track of rewards, Q-values, loss\n",
    "    # Track q-value convergence\n",
    "    # once the episode is complete, q-values will be predicted for all possible actions for the initial state\n",
    "    track_state_encode = encode_track_state(track_state)\n",
    "    track_state_encoded = env.state_encod_arch1(track_state)\n",
    "    track_state_encoded = np.reshape(track_state_encoded, [1, state_size])\n",
    "\n",
    "    track_q_values = agent.model.predict(track_state_encoded)[0]\n",
    "    \n",
    "    for index in range(len(env.action_space)):\n",
    "        track_action_encode = encode_track_action(env.action_space[index])\n",
    "        save_tracking_states(track_state_encode, track_action_encode, track_q_values[index])\n",
    "    \n",
    "    #save model\n",
    "    if (episode + 1) % 100 == 0:\n",
    "        PATH = \"models\"\n",
    "        if not os.path.exists(PATH):\n",
    "            os.mkdir(PATH)\n",
    "        # save the pickle file generated\n",
    "        save_obj(agent.get_model_weights(), os.path.join(PATH,f\"cardriver_dqn_{score}_{rides}_e{episode+1}\"))\n",
    "      \n",
    "    agent.epsilon_max = agent.epsilon_min + (agent.epsilon_max - agent.epsilon_min) * np.exp(agent.epsilon_decay*episode)\n",
    "    \n",
    "    \n",
    "    value = \"Score : {0}, Rides : {1}, ε : {2}, memory : {3}\".format(score, rides, agent.epsilon_max, len(agent.memory))\n",
    "    t_range.set_description(value)\n",
    "    t_range.refresh() # to show immediately the update"
   ]
  },
  {
   "cell_type": "code",
   "execution_count": null,
   "metadata": {
    "id": "2tmahdbFsWUs"
   },
   "outputs": [],
   "source": []
  },
  {
   "cell_type": "markdown",
   "metadata": {
    "id": "EnhSH0wKucFZ"
   },
   "source": [
    "### Tracking Convergence"
   ]
  },
  {
   "cell_type": "code",
   "execution_count": 13,
   "metadata": {
    "colab": {
     "base_uri": "https://localhost:8080/",
     "height": 295
    },
    "id": "Y6G8avqQucFa",
    "outputId": "0b9b9e35-7714-476c-c48c-c504c2090ab8"
   },
   "outputs": [
    {
     "data": {
      "image/png": "[encoded data removed]",
      "text/plain": [
       "<Figure size 432x288 with 1 Axes>"
      ]
     },
     "metadata": {
      "needs_background": "light"
     },
     "output_type": "display_data"
    }
   ],
   "source": [
    "# convergence with scores\n",
    "plt.plot(range(Episodes), scores)\n",
    "plt.xlabel(\"Episode\")\n",
    "plt.ylabel(\"Score\")\n",
    "plt.title(\"Convergence of Score over Episodes\")\n",
    "plt.show()"
   ]
  },
  {
   "cell_type": "code",
   "execution_count": 14,
   "metadata": {
    "colab": {
     "base_uri": "https://localhost:8080/",
     "height": 295
    },
    "id": "c858wheWvorf",
    "outputId": "f4c05965-f03a-4c1c-e2b4-772fc9e40532"
   },
   "outputs": [
    {
     "data": {
      "image/png": "[encoded data removed]",
      "text/plain": [
       "<Figure size 432x288 with 1 Axes>"
      ]
     },
     "metadata": {
      "needs_background": "light"
     },
     "output_type": "display_data"
    }
   ],
   "source": [
    "# convergence with scores (log)\n",
    "plt.plot(range(Episodes), scores)\n",
    "plt.yscale(\"log\")\n",
    "plt.xlabel(\"Episode\")\n",
    "plt.ylabel(\"Score (Log Scale)\")\n",
    "plt.title(\"Convergence of Score over Episodes\")\n",
    "plt.show()"
   ]
  },
  {
   "cell_type": "code",
   "execution_count": 15,
   "metadata": {
    "colab": {
     "base_uri": "https://localhost:8080/"
    },
    "id": "k4_58LJbv2de",
    "outputId": "890d4779-366c-4363-ddca-c55882a853bc"
   },
   "outputs": [
    {
     "name": "stdout",
     "output_type": "stream",
     "text": [
      "Maximum Score --> 2068.0 at Episode --> 1519\n"
     ]
    }
   ],
   "source": [
    "# maximum score at episode\n",
    "print(f\"Maximum Score --> {scores[np.argmax(scores)]} at Episode --> {np.argmax(scores)}\")"
   ]
  },
  {
   "cell_type": "code",
   "execution_count": 24,
   "metadata": {
    "colab": {
     "base_uri": "https://localhost:8080/",
     "height": 607
    },
    "id": "C5SBgUsiucFq",
    "outputId": "40b1a007-74ca-462d-9ad5-7d31c1799c8b"
   },
   "outputs": [
    {
     "data": {
      "image/png": "[encoded data removed]",
      "text/plain": [
       "<Figure size 1080x720 with 4 Axes>"
      ]
     },
     "metadata": {
      "needs_background": "light"
     },
     "output_type": "display_data"
    }
   ],
   "source": [
    "# plotting the graphs for state-action pairs tracked\n",
    "\n",
    "plt.figure(0, figsize=(15,10))\n",
    "\n",
    "\n",
    "plt.subplot(221)\n",
    "plt.title(\"States_track['4-4-2']['4-1']) - state-action pair tracking\")\n",
    "plt.plot(States_track['4-4-2']['4-1'], 'g')\n",
    "\n",
    "\n",
    "plt.subplot(222)\n",
    "plt.title(\"States_track['4-4-2']['3-5']) - state-action pair tracking\")\n",
    "plt.plot(States_track['4-4-2']['3-5'], 'r')\n",
    "\n",
    "plt.subplot(223)\n",
    "plt.title(\"States_track['4-4-2']['2-3']) - state-action pair tracking\")\n",
    "plt.plot(States_track['4-4-2']['2-3'], 'b')\n",
    "\n",
    "plt.subplot(224)\n",
    "plt.title(\"States_track['4-4-2']['1-2']) - state-action pair tracking\")\n",
    "plt.plot(States_track['4-4-2']['1-2'], 'y')\n",
    "\n",
    "plt.show()"
   ]
  },
  {
   "cell_type": "markdown",
   "metadata": {
    "id": "SzgdEzmRucFu"
   },
   "source": [
    "#### Epsilon-decay sample function"
   ]
  },
  {
   "cell_type": "markdown",
   "metadata": {
    "id": "JK1oK6kqucFv"
   },
   "source": [
    "<div class=\"alert alert-block alert-info\">\n",
    "Try building a similar epsilon-decay function for your model.\n",
    "</div>"
   ]
  },
  {
   "cell_type": "code",
   "execution_count": 19,
   "metadata": {
    "id": "nUAR31BBucFv"
   },
   "outputs": [],
   "source": [
    "time = np.arange(0,10000)\n",
    "epsilon = []\n",
    "for i in range(0,10000):\n",
    "    epsilon.append(0 + (1 - 0) * np.exp(-0.0009*i))"
   ]
  },
  {
   "cell_type": "code",
   "execution_count": 20,
   "metadata": {
    "colab": {
     "base_uri": "https://localhost:8080/",
     "height": 265
    },
    "id": "9rGMFrzgucFz",
    "outputId": "3cfe3a2f-f6ac-4b0a-d0d1-7b798c3f3b5d"
   },
   "outputs": [
    {
     "data": {
      "image/png": "[encoded data removed]",
      "text/plain": [
       "<Figure size 432x288 with 1 Axes>"
      ]
     },
     "metadata": {
      "needs_background": "light"
     },
     "output_type": "display_data"
    }
   ],
   "source": [
    "plt.plot(time, epsilon)\n",
    "plt.show()"
   ]
  }
 ],
 "metadata": {
  "accelerator": "GPU",
  "colab": {
   "collapsed_sections": [],
   "name": "DQN_Agent_Arch1_V7.ipynb",
   "provenance": [],
   "toc_visible": true
  },
  "kernelspec": {
   "display_name": "Python 3",
   "language": "python",
   "name": "python3"
  },
  "language_info": {
   "codemirror_mode": {
    "name": "ipython",
    "version": 3
   },
   "file_extension": ".py",
   "mimetype": "text/x-python",
   "name": "python",
   "nbconvert_exporter": "python",
   "pygments_lexer": "ipython3",
   "version": "3.7.6"
  }
 },
 "nbformat": 4,
 "nbformat_minor": 1
}
